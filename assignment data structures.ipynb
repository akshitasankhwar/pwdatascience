{
  "nbformat": 4,
  "nbformat_minor": 0,
  "metadata": {
    "colab": {
      "provenance": []
    },
    "kernelspec": {
      "name": "python3",
      "display_name": "Python 3"
    },
    "language_info": {
      "name": "python"
    }
  },
  "cells": [
    {
      "cell_type": "markdown",
      "source": [
        "# Question 1\n",
        "# What are data structures, and why are they important?\n",
        "Data structures are ways to store and organize data efficiently. They help make programs run faster and make handling data easier.\n",
        "\n",
        "# Question 2\n",
        "# Explain the difference between mutable and immutable data types with examples.\n",
        "Mutable data types can be changed after creation (e.g., lists, dictionaries). Immutable types cannot be changed (e.g., strings, tuples).\n",
        "\n",
        "# Question 3\n",
        "# What are the similarities and differences between lists and tuples in Python?\n",
        "Both store multiple items and support indexing. Lists are mutable and use [], while tuples are immutable and use ().\n",
        "\n",
        "# Question 4\n",
        "# Describe how dictionaries store data, and how is it different from a list?\n",
        "Dictionaries store data in key-value pairs. Lists store data by index numbers. Dictionaries are good for quick access using a key.\n",
        "\n",
        "# Question 5\n",
        "# Why might you use a set instead of a list in Python?\n",
        "Sets are used when you need only unique items and want fast lookup. They automatically remove duplicate values.\n",
        "\n",
        "# Question 6\n",
        "# What is a string in Python, and how is it different from a list?\n",
        "A string is a sequence of characters and is immutable. A list can store any data types and can be changed.\n",
        "\n",
        "# Question 7\n",
        "# How do tuples ensure data integrity in Python?\n",
        "Tuples are immutable, so they protect data from being changed accidentally, keeping the data safe.\n",
        "\n",
        "# Question 8\n",
        "# What is a hash table, and how does it relate to dictionaries in Python?\n",
        "A hash table stores values using a key and a hash function. Python dictionaries use hash tables to allow fast key-based lookups.\n",
        "\n",
        "# Question 9\n",
        "# Can lists contain different data types in Python?\n",
        "Yes, lists can hold different types of data like strings, integers, floats, and even other lists.\n",
        "\n",
        "# Question 10\n",
        "# Explain why strings are immutable data types in Python.\n",
        "Strings are immutable, meaning their content cannot be changed. This helps make programs safer and faster.\n",
        "\n",
        "# Question 11\n",
        "# What advantages do dictionaries offer over lists for certain tasks?\n",
        "Dictionaries provide quick access using keys. They are good for storing related information like names and phone numbers.\n",
        "\n",
        "# Question 12\n",
        "# Describe a scenario where using a tuple would be preferable over a list.\n",
        "Tuples are used when data should not change, like storing days of the week or coordinates (x, y).\n",
        "\n",
        "# Question 13\n",
        "# How do sets handle duplicate values? Give an example.\n",
        "Sets remove duplicates automatically. Example: {1, 2, 2, 3} becomes {1, 2, 3}.\n",
        "\n",
        "# Question 14\n",
        "# Can you modify the elements of a tuple? Explain why or why not.\n",
        "No, tuples cannot be changed after creation. They are immutable.\n",
        "\n",
        "# Question 15\n",
        "# What is a nested dictionary and what is a typical use case?\n",
        "A nested dictionary has another dictionary inside it. It's used to store structured data like student details under roll numbers.\n",
        "\n",
        "# Question 16\n",
        "# Can you sort the elements in a dictionary?\n",
        "You can't sort a dictionary directly, but you can sort its keys or values using the sorted() function.\n",
        "\n",
        "# Question 17\n",
        "# Describe the time complexity of accessing elements in a dictionary.\n",
        "Accessing values in a dictionary is very fast, usually O(1), because of how hashing works.\n",
        "\n",
        "# Question 18\n",
        "# What situations are lists preferred over dictionaries?\n",
        "Lists are better when you only need to store items in order and don’t need to use keys to identify them.\n",
        "\n",
        "# Question 19\n",
        "# Why are dictionaries considered unordered, and how does that affect data retrieval?\n",
        "Dictionaries store values by key, not position. Even if order is preserved in newer Python versions, access is still key-based.\n",
        "\n",
        "# Question 20\n",
        "# Explain the difference between a list and a dictionary in terms of data retrieval.\n",
        "In lists, data is accessed by index number. In dictionaries, data is accessed by keys.\n",
        "\n"
      ],
      "metadata": {
        "id": "D3w1ooizVxD3"
      }
    },
    {
      "cell_type": "code",
      "execution_count": 1,
      "metadata": {
        "colab": {
          "base_uri": "https://localhost:8080/"
        },
        "id": "uR9UlQbjST-V",
        "outputId": "a82c3811-afda-496b-d26b-63ec5e1122c1"
      },
      "outputs": [
        {
          "output_type": "stream",
          "name": "stdout",
          "text": [
            "Akshita Sankhwar\n"
          ]
        }
      ],
      "source": [
        "#Write a code to create a string with your name and print it\n",
        "name=\"Akshita Sankhwar\"\n",
        "print(name)"
      ]
    },
    {
      "cell_type": "code",
      "source": [
        "#Write a code to find the length of the string \"Hello World\"\n",
        "word=\"Hello World\"\n",
        "print(len(word))"
      ],
      "metadata": {
        "colab": {
          "base_uri": "https://localhost:8080/"
        },
        "id": "5Sxk7JjsS5eh",
        "outputId": "7ec0f550-9f68-4e42-ab38-384119e855c4"
      },
      "execution_count": 2,
      "outputs": [
        {
          "output_type": "stream",
          "name": "stdout",
          "text": [
            "11\n"
          ]
        }
      ]
    },
    {
      "cell_type": "code",
      "source": [
        "#Write a code to slice the first 3 characters from the string \"Python Programming\"\n",
        "word=\"Python Programming\"\n",
        "print(word[0:3])"
      ],
      "metadata": {
        "colab": {
          "base_uri": "https://localhost:8080/"
        },
        "id": "FKgfe6yxTOiJ",
        "outputId": "face99fd-4e89-40e1-dfa7-7aaf33c0f90e"
      },
      "execution_count": 3,
      "outputs": [
        {
          "output_type": "stream",
          "name": "stdout",
          "text": [
            "Pyt\n"
          ]
        }
      ]
    },
    {
      "cell_type": "code",
      "source": [
        "#Write a code to convert the string \"hello\" to uppercase\n",
        "word=\"hello\"\n",
        "print(word.upper())"
      ],
      "metadata": {
        "colab": {
          "base_uri": "https://localhost:8080/"
        },
        "id": "kwV3AKkJTay7",
        "outputId": "d9d37a1d-c5ea-45df-fc01-8f1bc169d9cb"
      },
      "execution_count": 4,
      "outputs": [
        {
          "output_type": "stream",
          "name": "stdout",
          "text": [
            "HELLO\n"
          ]
        }
      ]
    },
    {
      "cell_type": "code",
      "source": [
        "#Write a code to replace the word \"apple\" with \"orange\" in the string \"I like apple\"\n",
        "word=\"I like apple\"\n",
        "print(word.replace(\"apple\",\"orange\"))"
      ],
      "metadata": {
        "colab": {
          "base_uri": "https://localhost:8080/"
        },
        "id": "7TSTF3Q5TmC9",
        "outputId": "062343e7-1829-4326-f78a-306fe9dec84c"
      },
      "execution_count": 5,
      "outputs": [
        {
          "output_type": "stream",
          "name": "stdout",
          "text": [
            "I like orange\n"
          ]
        }
      ]
    },
    {
      "cell_type": "code",
      "source": [
        "# Write a code to create a list with numbers 1 to 5 and print it\n",
        "list=[1,2,3,4,5]\n",
        "print(list)"
      ],
      "metadata": {
        "colab": {
          "base_uri": "https://localhost:8080/"
        },
        "id": "x7Tb_XtJTwil",
        "outputId": "e0f9e3cd-9441-4abd-d6c4-66be3b42ff53"
      },
      "execution_count": 8,
      "outputs": [
        {
          "output_type": "stream",
          "name": "stdout",
          "text": [
            "[1, 2, 3, 4, 5]\n"
          ]
        }
      ]
    },
    {
      "cell_type": "code",
      "source": [
        "#Write a code to append the number 10 to the list [1, 2, 3, 4]\n",
        "list=[1,2,3,4]\n",
        "list.append(10)\n",
        "print(list)"
      ],
      "metadata": {
        "colab": {
          "base_uri": "https://localhost:8080/"
        },
        "id": "LjFLHaddT-Se",
        "outputId": "1f4b0890-e41e-4fbf-affe-2dde6d2baed0"
      },
      "execution_count": 7,
      "outputs": [
        {
          "output_type": "stream",
          "name": "stdout",
          "text": [
            "[1, 2, 3, 4, 10]\n"
          ]
        }
      ]
    },
    {
      "cell_type": "code",
      "source": [
        "# Write a code to remove the number 3 from the list [1, 2, 3, 4, 5]\n",
        "list=[1,2,3,4,5]\n",
        "list.remove(3)\n",
        "print(list)"
      ],
      "metadata": {
        "colab": {
          "base_uri": "https://localhost:8080/"
        },
        "id": "yCwiJS8oUK4c",
        "outputId": "9f686b6e-0da0-4da2-a42e-e48863982836"
      },
      "execution_count": 9,
      "outputs": [
        {
          "output_type": "stream",
          "name": "stdout",
          "text": [
            "[1, 2, 4, 5]\n"
          ]
        }
      ]
    },
    {
      "cell_type": "code",
      "source": [
        "#Write a code to access the second element in the list ['a', 'b', 'c', 'd']\n",
        "list=['a','b','c','d']\n",
        "print(list[1])"
      ],
      "metadata": {
        "colab": {
          "base_uri": "https://localhost:8080/"
        },
        "id": "K0dJX5pzUYjq",
        "outputId": "dc7cfc54-a488-4473-8274-a968cdf14ec5"
      },
      "execution_count": 10,
      "outputs": [
        {
          "output_type": "stream",
          "name": "stdout",
          "text": [
            "b\n"
          ]
        }
      ]
    },
    {
      "cell_type": "code",
      "source": [
        "#Write a code to reverse the list [10, 20, 30, 40, 50]\n",
        "list=[10,20,30,40,50]\n",
        "list.reverse()\n",
        "print(list)"
      ],
      "metadata": {
        "colab": {
          "base_uri": "https://localhost:8080/"
        },
        "id": "dcfsDZvfUkEW",
        "outputId": "70fd4de3-5675-42c2-9293-a843e559fed1"
      },
      "execution_count": 11,
      "outputs": [
        {
          "output_type": "stream",
          "name": "stdout",
          "text": [
            "[50, 40, 30, 20, 10]\n"
          ]
        }
      ]
    },
    {
      "cell_type": "code",
      "source": [
        "#Write a code to create a tuple with the elements 100, 200, 300 and print it\n",
        "tuple=(100,200,300)\n",
        "print(tuple)"
      ],
      "metadata": {
        "colab": {
          "base_uri": "https://localhost:8080/"
        },
        "id": "WDygG86iUuxf",
        "outputId": "28080042-2e0b-470a-8d4e-919386b0e821"
      },
      "execution_count": 12,
      "outputs": [
        {
          "output_type": "stream",
          "name": "stdout",
          "text": [
            "(100, 200, 300)\n"
          ]
        }
      ]
    },
    {
      "cell_type": "code",
      "source": [
        "#Write a code to access the second-to-last element of the tuple ('red', 'green', 'blue', 'yellow')\n",
        "tuple=('red','green','blue','yellow')\n",
        "print(tuple[-2])"
      ],
      "metadata": {
        "colab": {
          "base_uri": "https://localhost:8080/"
        },
        "id": "aZB9JvS8U1e3",
        "outputId": "1a9ba0fe-390f-4cb7-95b2-1a50adb6b2ba"
      },
      "execution_count": 13,
      "outputs": [
        {
          "output_type": "stream",
          "name": "stdout",
          "text": [
            "blue\n"
          ]
        }
      ]
    },
    {
      "cell_type": "code",
      "source": [
        "# Write a code to find the minimum number in the tuple (10, 20, 5, 15)\n",
        "tuple=(10,20,5,15)\n",
        "print(min(tuple))"
      ],
      "metadata": {
        "colab": {
          "base_uri": "https://localhost:8080/"
        },
        "id": "0MT_8uBXU8Dc",
        "outputId": "5da4f2fa-cfaf-404c-a5f5-b5c550d2cdf8"
      },
      "execution_count": 14,
      "outputs": [
        {
          "output_type": "stream",
          "name": "stdout",
          "text": [
            "5\n"
          ]
        }
      ]
    },
    {
      "cell_type": "code",
      "source": [
        "#Write a code to find the index of the element \"cat\" in the tuple ('dog', 'cat', 'rabbit')\n",
        "tuple=('dog','cat','rabbit')\n",
        "print(tuple.index('cat'))"
      ],
      "metadata": {
        "colab": {
          "base_uri": "https://localhost:8080/"
        },
        "id": "9RyY5gvmVEGG",
        "outputId": "ca71c5ed-ff86-4419-a9ad-03fb0bd81d7f"
      },
      "execution_count": 15,
      "outputs": [
        {
          "output_type": "stream",
          "name": "stdout",
          "text": [
            "1\n"
          ]
        }
      ]
    },
    {
      "cell_type": "code",
      "source": [
        "# Write a code to create a tuple containing three different fruits and check if \"kiwi\" is in it\n",
        "tuple=(\"apple\",\"banana\",\"kiwi\")\n",
        "print(\"kiwi\" in tuple)"
      ],
      "metadata": {
        "colab": {
          "base_uri": "https://localhost:8080/"
        },
        "id": "ndiIQp6nVLro",
        "outputId": "8aa7d2fe-2fdb-4555-c551-b1ef4df64543"
      },
      "execution_count": 16,
      "outputs": [
        {
          "output_type": "stream",
          "name": "stdout",
          "text": [
            "True\n"
          ]
        }
      ]
    },
    {
      "cell_type": "code",
      "source": [
        "#Write a code to create a set with the elements 'a', 'b', 'c' and print it\n",
        "set1={'a','b','c'}\n",
        "print(set1)"
      ],
      "metadata": {
        "colab": {
          "base_uri": "https://localhost:8080/"
        },
        "id": "csFmAWgOVRgk",
        "outputId": "ca7aab87-2b9a-44a9-aba2-7a4695d45b8e"
      },
      "execution_count": 17,
      "outputs": [
        {
          "output_type": "stream",
          "name": "stdout",
          "text": [
            "{'c', 'a', 'b'}\n"
          ]
        }
      ]
    },
    {
      "cell_type": "code",
      "source": [
        "# Write a code to clear all elements from the set {1, 2, 3, 4, 5}\n",
        "set1={1,2,3,4,5}\n",
        "set1.clear()\n",
        "print(set1)"
      ],
      "metadata": {
        "colab": {
          "base_uri": "https://localhost:8080/"
        },
        "id": "B8iY-RiAVrOj",
        "outputId": "a1161198-667b-4393-8e7d-4862d6d90597"
      },
      "execution_count": 40,
      "outputs": [
        {
          "output_type": "stream",
          "name": "stdout",
          "text": [
            "set()\n"
          ]
        }
      ]
    },
    {
      "cell_type": "code",
      "source": [
        "#Write a code to remove the element 4 from the set {1, 2, 3, 4}\n",
        "set1={1,2,3,4}\n",
        "set1.remove(4)\n",
        "print(set1)"
      ],
      "metadata": {
        "colab": {
          "base_uri": "https://localhost:8080/"
        },
        "id": "HDLtEYNPWMkT",
        "outputId": "2f80b342-0935-423d-ab9b-fb5c3ce3fe34"
      },
      "execution_count": 19,
      "outputs": [
        {
          "output_type": "stream",
          "name": "stdout",
          "text": [
            "{1, 2, 3}\n"
          ]
        }
      ]
    },
    {
      "cell_type": "code",
      "source": [
        "#Write a code to find the union of two sets {1, 2, 3} and {3, 4, 5}\n",
        "set1={1, 2, 3}\n",
        "set2={3, 4, 5}\n",
        "print(set1|set2)"
      ],
      "metadata": {
        "colab": {
          "base_uri": "https://localhost:8080/"
        },
        "id": "TOwyVa0OWYRy",
        "outputId": "79e6569a-c715-442b-9985-084d6b5c7155"
      },
      "execution_count": 20,
      "outputs": [
        {
          "output_type": "stream",
          "name": "stdout",
          "text": [
            "{1, 2, 3, 4, 5}\n"
          ]
        }
      ]
    },
    {
      "cell_type": "code",
      "source": [
        "# Write a code to find the intersection of two sets {1, 2, 3} and {2, 3, 4}\n",
        "set1={1, 2, 3}\n",
        "set2={3, 4, 5}\n",
        "print(set1&set2)"
      ],
      "metadata": {
        "colab": {
          "base_uri": "https://localhost:8080/"
        },
        "id": "5ny9HWhaWrgb",
        "outputId": "fb615fb5-38fe-41a7-bbcb-c56df6e58364"
      },
      "execution_count": 21,
      "outputs": [
        {
          "output_type": "stream",
          "name": "stdout",
          "text": [
            "{3}\n"
          ]
        }
      ]
    },
    {
      "cell_type": "code",
      "source": [
        "#Write a code to create a dictionary with the keys \"name\", \"age\", and \"city\", and print it\n",
        "dict={\"name\":\"Akshita\",\"age\":22,\"city\":\"Lucknow\"}\n",
        "print(dict)"
      ],
      "metadata": {
        "colab": {
          "base_uri": "https://localhost:8080/"
        },
        "id": "YKwE_FtzW8MY",
        "outputId": "f30c513f-30f6-44a8-efab-753479f81243"
      },
      "execution_count": 22,
      "outputs": [
        {
          "output_type": "stream",
          "name": "stdout",
          "text": [
            "{'name': 'Akshita', 'age': 22, 'city': 'Lucknow'}\n"
          ]
        }
      ]
    },
    {
      "cell_type": "code",
      "source": [
        "#Write a code to add a new key-value pair \"country\": \"USA\" to the dictionary {'name': 'John', 'age': 25}\n",
        "dict={'name': 'John', 'age': 25}\n",
        "dict[\"country\"]=\"USA\"\n",
        "print(dict)"
      ],
      "metadata": {
        "colab": {
          "base_uri": "https://localhost:8080/"
        },
        "id": "eheTVy-TXLnD",
        "outputId": "ca7b93f2-9236-4714-e84d-28eb3cc40061"
      },
      "execution_count": 23,
      "outputs": [
        {
          "output_type": "stream",
          "name": "stdout",
          "text": [
            "{'name': 'John', 'age': 25, 'country': 'USA'}\n"
          ]
        }
      ]
    },
    {
      "cell_type": "code",
      "source": [
        "#Write a code to access the value associated with the key \"name\" in the dictionary {'name': 'Alice', 'age': 30}\n",
        "dict={'name': 'Alice', 'age': 30}\n",
        "print(dict[\"name\"])"
      ],
      "metadata": {
        "colab": {
          "base_uri": "https://localhost:8080/"
        },
        "id": "-3tAkhThYWwO",
        "outputId": "fa5ca736-c362-448c-f2af-b4a31f5ecd83"
      },
      "execution_count": 24,
      "outputs": [
        {
          "output_type": "stream",
          "name": "stdout",
          "text": [
            "Alice\n"
          ]
        }
      ]
    },
    {
      "cell_type": "code",
      "source": [
        "#Write a code to remove the key \"age\" from the dictionary {'name': 'Bob', 'age': 22, 'city': 'New York'}\n",
        "dict={'name': 'Bob', 'age': 22, 'city': 'New York'}\n",
        "dict.pop(\"age\")\n",
        "print(dict)"
      ],
      "metadata": {
        "colab": {
          "base_uri": "https://localhost:8080/"
        },
        "id": "ZtRqQ2baYd24",
        "outputId": "0d38b287-7756-485f-e43b-09e6bc43264c"
      },
      "execution_count": 25,
      "outputs": [
        {
          "output_type": "stream",
          "name": "stdout",
          "text": [
            "{'name': 'Bob', 'city': 'New York'}\n"
          ]
        }
      ]
    },
    {
      "cell_type": "code",
      "source": [
        "#Write a code to check if the key \"city\" exists in the dictionary {'name': 'Alice', 'city': 'Paris'}\n",
        "dict={'name': 'Alice', 'city': 'Paris'}\n",
        "print(\"city\" in dict)"
      ],
      "metadata": {
        "colab": {
          "base_uri": "https://localhost:8080/"
        },
        "id": "qEeDnwvNYq4c",
        "outputId": "023cbb54-974d-4d22-81de-a760a60eb5f4"
      },
      "execution_count": 26,
      "outputs": [
        {
          "output_type": "stream",
          "name": "stdout",
          "text": [
            "True\n"
          ]
        }
      ]
    },
    {
      "cell_type": "code",
      "source": [
        "#Write a code to create a list, a tuple, and a dictionary, and print them all.\n",
        "\n",
        "list=[1,2,3,4]\n",
        "print(list)\n",
        "tuple=(1,2,3,4)\n",
        "print(tuple)\n",
        "dict={\"name\":\"Akshita\",\"age\":22,\"city\":\"Lucknow\"}\n",
        "print(dict)"
      ],
      "metadata": {
        "colab": {
          "base_uri": "https://localhost:8080/"
        },
        "id": "Z8xuRy_dYvfu",
        "outputId": "c45600ce-8bec-4e6f-9ce0-daa19dfe9c82"
      },
      "execution_count": 27,
      "outputs": [
        {
          "output_type": "stream",
          "name": "stdout",
          "text": [
            "[1, 2, 3, 4]\n",
            "(1, 2, 3, 4)\n",
            "{'name': 'Akshita', 'age': 22, 'city': 'Lucknow'}\n"
          ]
        }
      ]
    },
    {
      "cell_type": "code",
      "source": [
        "#Write a code to create a list of 5 random numbers between 1 and 100, sort it in ascending order, and print the result.(replaced)\n",
        "import random\n",
        "list=[random.randint(1,100) for i in range(5)]\n",
        "list.sort()\n",
        "print(list)"
      ],
      "metadata": {
        "colab": {
          "base_uri": "https://localhost:8080/"
        },
        "id": "f3XZygnOY383",
        "outputId": "8bac7100-d6aa-4146-b47b-61d6007b7659"
      },
      "execution_count": 28,
      "outputs": [
        {
          "output_type": "stream",
          "name": "stdout",
          "text": [
            "[9, 13, 29, 82, 93]\n"
          ]
        }
      ]
    },
    {
      "cell_type": "code",
      "source": [
        "# Write a code to create a list with strings and print the element at the third index\n",
        "list=[\"apple\",\"banana\",\"kiwi\"]\n",
        "print(list[2])"
      ],
      "metadata": {
        "colab": {
          "base_uri": "https://localhost:8080/"
        },
        "id": "WtzS2lN0ZRTt",
        "outputId": "a223961a-bde0-484d-e208-9c5844dae58d"
      },
      "execution_count": 29,
      "outputs": [
        {
          "output_type": "stream",
          "name": "stdout",
          "text": [
            "kiwi\n"
          ]
        }
      ]
    },
    {
      "cell_type": "code",
      "source": [
        "# Write a code to combine two dictionaries into one and print the result\n",
        "dict1={\"name\":\"Akshita\",\"age\":22}\n",
        "dict2={\"city\":\"Lucknow\",\"state\":\"Uttar Pradesh\"}\n",
        "dict1.update(dict2)\n",
        "print(dict1)"
      ],
      "metadata": {
        "colab": {
          "base_uri": "https://localhost:8080/"
        },
        "id": "KSZOj64VZbMw",
        "outputId": "189a7980-b8f0-4452-dec2-3e1247e58db2"
      },
      "execution_count": 30,
      "outputs": [
        {
          "output_type": "stream",
          "name": "stdout",
          "text": [
            "{'name': 'Akshita', 'age': 22, 'city': 'Lucknow', 'state': 'Uttar Pradesh'}\n"
          ]
        }
      ]
    },
    {
      "cell_type": "code",
      "source": [
        "#Write a code to convert a list of strings into a set\n",
        "list=[\"apple\",\"banana\",\"kiwi\"]\n",
        "set1 = set(list)\n",
        "print(set1)\n"
      ],
      "metadata": {
        "colab": {
          "base_uri": "https://localhost:8080/"
        },
        "id": "5RKxi1WTa78J",
        "outputId": "bb4f79de-1beb-4c9a-c042-972afce7caf2"
      },
      "execution_count": 1,
      "outputs": [
        {
          "output_type": "stream",
          "name": "stdout",
          "text": [
            "{'kiwi', 'apple', 'banana'}\n"
          ]
        }
      ]
    }
  ]
}