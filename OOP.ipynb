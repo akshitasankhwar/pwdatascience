{
  "nbformat": 4,
  "nbformat_minor": 0,
  "metadata": {
    "colab": {
      "provenance": []
    },
    "kernelspec": {
      "name": "python3",
      "display_name": "Python 3"
    },
    "language_info": {
      "name": "python"
    }
  },
  "cells": [
    {
      "cell_type": "markdown",
      "source": [
        "# 1. What is Object-Oriented Programming (OOP)?\n",
        "# OOP is a programming style that uses classes and objects to organize code.\n",
        "# It bundles data (attributes) and actions (methods) into objects.\n",
        "# It provides modularity, reusability, and easier maintenance.\n",
        "\n",
        "# 2. What is a class in OOP?\n",
        "# A class is a blueprint for creating objects. It defines variables and methods.\n",
        "class Car:\n",
        "    def start(self):\n",
        "        print(\"Car started\")\n",
        "\n",
        "# 3. What is an object in OOP?\n",
        "# An object is an instance of a class. It represents a real-world entity.\n",
        "my_car = Car()\n",
        "my_car.start()\n",
        "\n",
        "# 4. What is the difference between abstraction and encapsulation?\n",
        "# Abstraction: Hides internal details and shows only essential features.\n",
        "# Encapsulation: Binds data and methods together and hides them from outside access.\n",
        "class Bank:\n",
        "    def __init__(self):\n",
        "        self.__balance = 1000   # Encapsulation\n",
        "\n",
        "    def get_balance(self):     # Abstraction\n",
        "        return self.__balance\n",
        "\n",
        "# 5. What are dunder methods in Python?\n",
        "# Dunder methods are special methods with double underscores like __init__, __str__, etc.\n",
        "# They allow custom behavior for built-in operations.\n",
        "\n",
        "# 6. Explain the concept of inheritance in OOP\n",
        "# Inheritance allows a class to acquire properties and methods from another class.\n",
        "class Animal:\n",
        "    def speak(self):\n",
        "        print(\"Animal speaks\")\n",
        "class Dog(Animal):\n",
        "    pass\n",
        "d = Dog()\n",
        "d.speak()\n",
        "\n",
        "# 7. What is polymorphism in OOP?\n",
        "# Polymorphism allows different classes to define the same method in different ways.\n",
        "class Cat:\n",
        "    def sound(self):\n",
        "        print(\"Meow\")\n",
        "class Dog:\n",
        "    def sound(self):\n",
        "        print(\"Bark\")\n",
        "for animal in (Cat(), Dog()):\n",
        "    animal.sound()\n",
        "\n",
        "# 8. How is encapsulation achieved in Python?\n",
        "# Encapsulation is done using private variables (__var) and public getter/setter methods.\n",
        "\n",
        "# 9. What is a constructor in Python?\n",
        "# A constructor is the __init__() method, which initializes the object.\n",
        "\n",
        "class Person:\n",
        "    def __init__(self, name):\n",
        "        self.name = name\n",
        "\n",
        "# 10. What are class and static methods in Python?\n",
        "# Class method: uses @classmethod and works with the class (cls).\n",
        "# Static method: uses @staticmethod and doesn't take self or cls.\n",
        "\n",
        "class Example:\n",
        "    @classmethod\n",
        "    def cls_method(cls):\n",
        "        print(\"Class method\")\n",
        "\n",
        "    @staticmethod\n",
        "    def static_method():\n",
        "        print(\"Static method\")\n",
        "\n",
        "# 11. What is method overloading in Python?\n",
        "# Python does not support traditional method overloading, but we can use default arguments.\n",
        "\n",
        "def greet(name=None):\n",
        "    if name:\n",
        "        print(\"Hello\", name)\n",
        "    else:\n",
        "        print(\"Hello\")\n",
        "\n",
        "# 12. What is method overriding in OOP?\n",
        "# A child class provides a new version of a method inherited from its parent class.\n",
        "\n",
        "class Parent:\n",
        "    def show(self):\n",
        "        print(\"Parent\")\n",
        "\n",
        "class Child(Parent):\n",
        "    def show(self):\n",
        "        print(\"Child\")\n",
        "\n",
        "c = Child()\n",
        "c.show()\n",
        "\n",
        "# 13. What is a property decorator in Python?\n",
        "# @property is used to turn a method into a read-only attribute.\n",
        "\n",
        "class Circle:\n",
        "    def __init__(self, radius):\n",
        "        self._radius = radius\n",
        "\n",
        "    @property\n",
        "    def area(self):\n",
        "        return 3.14 * self._radius ** 2\n",
        "\n",
        "# 14. Why is polymorphism important in OOP?\n",
        "# It allows functions to use objects of different classes without changing the function itself.\n",
        "\n",
        "# 15. What is an abstract class in Python?\n",
        "# An abstract class cannot be instantiated and may contain abstract methods.\n",
        "\n",
        "from abc import ABC, abstractmethod\n",
        "\n",
        "class Shape(ABC):\n",
        "    @abstractmethod\n",
        "    def area(self):\n",
        "        pass\n",
        "\n",
        "# 16. What are the advantages of OOP?\n",
        "# - Code reuse through inheritance\n",
        "# - Better data security via encapsulation\n",
        "# - Flexibility using polymorphism\n",
        "# - Real-world modeling\n",
        "\n",
        "# 17. What is the difference between a class variable and an instance variable?\n",
        "# Class variable: shared across all objects.\n",
        "# Instance variable: unique for each object.\n",
        "\n",
        "class Student:\n",
        "    school = \"ABC\"  # class variable\n",
        "    def __init__(self, name):\n",
        "        self.name = name  # instance variable\n",
        "\n",
        "# 18. What is multiple inheritance in Python?\n",
        "# When a class inherits from more than one parent class.\n",
        "\n",
        "class A:\n",
        "    pass\n",
        "\n",
        "class B:\n",
        "    pass\n",
        "\n",
        "class C(A, B):\n",
        "    pass\n",
        "\n",
        "# 19. Explain the purpose of __str__ and __repr__ methods in Python\n",
        "# __str__: for readable string output (used with print)\n",
        "# __repr__: for developer-friendly representation (used in debugging)\n",
        "\n",
        "class Book:\n",
        "    def __str__(self):\n",
        "        return \"Readable output\"\n",
        "    def __repr__(self):\n",
        "        return \"Book('title')\"\n",
        "\n",
        "# 20. What is the significance of the super() function in Python?\n",
        "# super() is used to call a method from the parent class.\n",
        "\n",
        "class A:\n",
        "    def show(self):\n",
        "        print(\"A\")\n",
        "\n",
        "class B(A):\n",
        "    def show(self):\n",
        "        super().show()\n",
        "        print(\"B\")\n",
        "\n",
        "# 21. What is the significance of the __del__ method in Python?\n",
        "# __del__ is the destructor method, called when an object is deleted.\n",
        "\n",
        "class Sample:\n",
        "    def __del__(self):\n",
        "        print(\"Object destroyed\")\n",
        "\n",
        "# 22. What is the difference between @staticmethod and @classmethod in Python?\n",
        "# @staticmethod: no access to class or instance.\n",
        "# @classmethod: has access to the class (cls), but not the instance.\n",
        "\n",
        "# 23. How does polymorphism work in Python with inheritance?\n",
        "# A child class overrides the parent method to perform a different action.\n",
        "\n",
        "class Bird:\n",
        "    def fly(self):\n",
        "        print(\"Bird flies\")\n",
        "\n",
        "class Eagle(Bird):\n",
        "    def fly(self):\n",
        "        print(\"Eagle flies high\")\n",
        "\n",
        "# 24. What is method chaining in Python OOP?\n",
        "# Calling multiple methods on the same object in a single line.\n",
        "\n",
        "class Demo:\n",
        "    def a(self):\n",
        "        print(\"A\")\n",
        "        return self\n",
        "    def b(self):\n",
        "        print(\"B\")\n",
        "        return self\n",
        "\n",
        "Demo().a().b()\n",
        "\n",
        "# 25. What is the purpose of the __call__ method in Python?\n",
        "# If a class has __call__, its objects can be called like a function.\n",
        "\n",
        "class MyFunc:\n",
        "    def __call__(self):\n",
        "        print(\"Called like a function\")\n",
        "\n",
        "obj = MyFunc()\n",
        "obj()\n"
      ],
      "metadata": {
        "id": "W6YK_u1VlMyU"
      }
    },
    {
      "cell_type": "code",
      "execution_count": 2,
      "metadata": {
        "id": "fcjprLX5jleg",
        "colab": {
          "base_uri": "https://localhost:8080/"
        },
        "outputId": "238dd7c6-988d-4d25-b5c6-8593821272af"
      },
      "outputs": [
        {
          "output_type": "stream",
          "name": "stdout",
          "text": [
            "Bark!\n"
          ]
        }
      ],
      "source": [
        "# Create a parent class Animal with a method speak() that prints a generic message. Create a child class Dog that overrides the speak() method\n",
        "#to print \"Bark!\"\n",
        "class Animal:\n",
        "    def speak(self):\n",
        "        print(\"Generic animal sound\")\n",
        "class Dog(Animal):\n",
        "    def speak(self):\n",
        "        print(\"Bark!\")\n",
        "dog = Dog()\n",
        "dog.speak()"
      ]
    },
    {
      "cell_type": "code",
      "source": [
        "# Write a program to create an abstract class Shape with a method area(). Derive classes Circle and Rectangle from it and implement the area()\n",
        "#method in both\n",
        "from abc import ABC, abstractmethod\n",
        "class Shape(ABC):\n",
        "    @abstractmethod\n",
        "    def area(self):\n",
        "        pass\n",
        "class Circle(Shape):\n",
        "    def __init__(self, radius):\n",
        "        self.radius = radius\n",
        "    def area(self):\n",
        "        return 3.14 * self.radius * self.radius\n",
        "class Rectangle(Shape):\n",
        "    def __init__(self, length, width):\n",
        "        self.length = length\n",
        "        self.width = width\n",
        "    def area(self):\n",
        "        return self.length * self.width\n",
        "\n",
        "circle = Circle(5)\n",
        "print(circle.area())\n",
        "rectangle = Rectangle(4, 6)\n",
        "print(rectangle.area())"
      ],
      "metadata": {
        "colab": {
          "base_uri": "https://localhost:8080/"
        },
        "id": "qys_pAGlmPjB",
        "outputId": "2ad61078-d883-4668-ba4e-208f683ba2fd"
      },
      "execution_count": 3,
      "outputs": [
        {
          "output_type": "stream",
          "name": "stdout",
          "text": [
            "78.5\n",
            "24\n"
          ]
        }
      ]
    },
    {
      "cell_type": "code",
      "source": [
        "# Implement a multi-level inheritance scenario where a class Vehicle has an attribute type. Derive a class Car and further derive a class\n",
        "#ElectricCar that adds a battery attribute.\n",
        "class Vehicle:\n",
        "    def __init__(self, type):\n",
        "        self.type = type\n",
        "class Car(Vehicle):\n",
        "    def __init__(self, type, color):\n",
        "        super().__init__(type)\n",
        "        self.color = color\n",
        "class ElectricCar(Car):\n",
        "    def __init__(self, type, color, battery):\n",
        "        super().__init__(type, color)\n",
        "        self.battery = battery\n",
        "electric_car = ElectricCar(\"Electric\", \"Red\", \"10kWh\")\n",
        "print(electric_car.type)\n",
        "print(electric_car.color)\n",
        "print(electric_car.battery)"
      ],
      "metadata": {
        "colab": {
          "base_uri": "https://localhost:8080/"
        },
        "id": "YsFT3VubnjJT",
        "outputId": "f906a4e9-494c-493a-8dfe-e50c95bcbc24"
      },
      "execution_count": 5,
      "outputs": [
        {
          "output_type": "stream",
          "name": "stdout",
          "text": [
            "Electric\n",
            "Red\n",
            "10kWh\n"
          ]
        }
      ]
    },
    {
      "cell_type": "code",
      "source": [
        "# Demonstrate polymorphism by creating a base class Bird with a method fly(). Create two derived classes Sparrow and Penguin that override the\n",
        "#fly() method.\n",
        "class Bird:\n",
        "    def fly(self):\n",
        "        print(\"Birds can fly\")\n",
        "class Sparrow(Bird):\n",
        "    def fly(self):\n",
        "        print(\"Sparrows can fly\")\n",
        "class Penguin(Bird):\n",
        "    def fly(self):\n",
        "        print(\"Penguins cannot fly\")\n",
        "sparrow = Sparrow()\n",
        "sparrow.fly()\n",
        "penguin = Penguin()\n",
        "penguin.fly()"
      ],
      "metadata": {
        "colab": {
          "base_uri": "https://localhost:8080/"
        },
        "id": "iD-iSirvo_1Q",
        "outputId": "44fdd6d9-f05a-43b0-da07-a3829d58d676"
      },
      "execution_count": 6,
      "outputs": [
        {
          "output_type": "stream",
          "name": "stdout",
          "text": [
            "Sparrows can fly\n",
            "Penguins cannot fly\n"
          ]
        }
      ]
    },
    {
      "cell_type": "code",
      "source": [
        "# Write a program to demonstrate encapsulation by creating a class BankAccount with private attributes balance and methods to deposit, withdraw,\n",
        "#and check balance.\n",
        "class BankAccount:\n",
        "    def __init__(self, balance):\n",
        "        self.__balance = balance\n",
        "    def deposit(self, amount):\n",
        "        self.__balance += amount\n",
        "    def withdraw(self, amount):\n",
        "        if amount <= self.__balance:\n",
        "            self.__balance -= amount\n",
        "        else:\n",
        "            print(\"Insufficient balance\")\n",
        "    def check_balance(self):\n",
        "        return self.__balance\n",
        "account = BankAccount(1000)\n",
        "account.deposit(500)\n",
        "account.withdraw(200)\n",
        "print(account.check_balance())"
      ],
      "metadata": {
        "colab": {
          "base_uri": "https://localhost:8080/"
        },
        "id": "fcQ6126XpjYH",
        "outputId": "6f590606-f687-4051-d25e-4f69672a384c"
      },
      "execution_count": 7,
      "outputs": [
        {
          "output_type": "stream",
          "name": "stdout",
          "text": [
            "1300\n"
          ]
        }
      ]
    },
    {
      "cell_type": "code",
      "source": [
        "#Demonstrate runtime polymorphism using a method play() in a base class Instrument. Derive classes Guitar and Piano that implement their own\n",
        "#version of play().\n",
        "class Instrument:\n",
        "    def play(self):\n",
        "        print(\"Instrument is playing\")\n",
        "class Guitar(Instrument):\n",
        "    def play(self):\n",
        "        print(\"Guitar is playing\")\n",
        "class Piano(Instrument):\n",
        "    def play(self):\n",
        "        print(\"Piano is playing\")\n",
        "guitar = Guitar()\n",
        "guitar.play()\n",
        "piano = Piano()\n",
        "piano.play()"
      ],
      "metadata": {
        "colab": {
          "base_uri": "https://localhost:8080/"
        },
        "id": "98ywvLlkq24J",
        "outputId": "ebebe302-84cc-4935-8506-20a1ee65229e"
      },
      "execution_count": 8,
      "outputs": [
        {
          "output_type": "stream",
          "name": "stdout",
          "text": [
            "Guitar is playing\n",
            "Piano is playing\n"
          ]
        }
      ]
    },
    {
      "cell_type": "code",
      "source": [
        "#Create a class MathOperations with a class method add_numbers() to add two numbers and a static method subtract_numbers() to subtract two\n",
        "#numbers.\n",
        "class MathOperations:\n",
        "    @classmethod\n",
        "    def add_numbers(cls, a, b):\n",
        "        return a + b\n",
        "    @staticmethod\n",
        "    def subtract_numbers(a, b):\n",
        "        return a - b\n",
        "print(MathOperations.add_numbers(5, 3))\n",
        "print(MathOperations.subtract_numbers(5, 3))"
      ],
      "metadata": {
        "colab": {
          "base_uri": "https://localhost:8080/"
        },
        "id": "-07uEx--xuuT",
        "outputId": "31a7fc1e-bbc9-4a4c-a76b-a132c3289c59"
      },
      "execution_count": 10,
      "outputs": [
        {
          "output_type": "stream",
          "name": "stdout",
          "text": [
            "8\n",
            "2\n"
          ]
        }
      ]
    },
    {
      "cell_type": "code",
      "source": [
        "#Implement a class Person with a class method to count the total number of persons created\n",
        "class Person:\n",
        "    count = 0\n",
        "    def __init__(self):\n",
        "        Person.count += 1\n",
        "    @classmethod\n",
        "    def get_count(cls):\n",
        "        return cls.count\n",
        "person1 = Person()\n",
        "person2 = Person()\n",
        "print(Person.get_count())"
      ],
      "metadata": {
        "colab": {
          "base_uri": "https://localhost:8080/"
        },
        "id": "KSXeGvcmy0m9",
        "outputId": "9bfc9cc1-66a3-41f5-c67b-74390e0d862b"
      },
      "execution_count": 11,
      "outputs": [
        {
          "output_type": "stream",
          "name": "stdout",
          "text": [
            "2\n"
          ]
        }
      ]
    },
    {
      "cell_type": "code",
      "source": [
        "#Write a class Fraction with attributes numerator and denominator. Override the str method to display thefraction as \"numerator/denominator\n",
        "class Fraction:\n",
        "    def __init__(self, numerator, denominator):\n",
        "        self.numerator = numerator\n",
        "        self.denominator = denominator\n",
        "    def __str__(self):\n",
        "        return f\"{self.numerator}/{self.denominator}\"\n",
        "frac = Fraction(3, 5)\n",
        "print(frac)"
      ],
      "metadata": {
        "colab": {
          "base_uri": "https://localhost:8080/"
        },
        "id": "2n6uH6g40v5_",
        "outputId": "e956f1fa-a6fb-45ac-a3b2-5d1e63dde35e"
      },
      "execution_count": 12,
      "outputs": [
        {
          "output_type": "stream",
          "name": "stdout",
          "text": [
            "3/5\n"
          ]
        }
      ]
    },
    {
      "cell_type": "code",
      "source": [
        "#Demonstrate operator overloading by creating a class Vector and overriding the add method to add two vectors\n",
        "class Vector:\n",
        "    def __init__(self, x, y):\n",
        "        self.x = x\n",
        "        self.y = y\n",
        "    def __add__(self, other):\n",
        "        return Vector(self.x + other.x, self.y + other.y)\n",
        "vec1 = Vector(1, 2)\n",
        "vec2 = Vector(3, 4)\n",
        "vec3 = vec1 + vec2\n",
        "print(vec3.x, vec3.y)"
      ],
      "metadata": {
        "colab": {
          "base_uri": "https://localhost:8080/"
        },
        "id": "62Pe7ZNR1DXL",
        "outputId": "0afeda3b-aad1-43f1-ccb9-ff79ea65cc96"
      },
      "execution_count": 13,
      "outputs": [
        {
          "output_type": "stream",
          "name": "stdout",
          "text": [
            "4 6\n"
          ]
        }
      ]
    },
    {
      "cell_type": "code",
      "source": [
        "#Create a class Person with attributes name and age. Add a method greet() that prints \"Hello, my name is {name} and I am {age} years old.\"\n",
        "class Person:\n",
        "    def __init__(self, name, age):\n",
        "        self.name = name\n",
        "        self.age = age\n",
        "    def greet(self):\n",
        "        print(f\"Hello, my name is {self.name} and I am {self.age} years old.\")\n",
        "person = Person(\"John\", 30)\n",
        "person.greet()"
      ],
      "metadata": {
        "colab": {
          "base_uri": "https://localhost:8080/"
        },
        "id": "kQIIa5sQ2-V1",
        "outputId": "93742811-76f0-494f-e38d-26dfd182ed3f"
      },
      "execution_count": 14,
      "outputs": [
        {
          "output_type": "stream",
          "name": "stdout",
          "text": [
            "Hello, my name is John and I am 30 years old.\n"
          ]
        }
      ]
    },
    {
      "cell_type": "code",
      "source": [
        "#Implement a class Student with attributes name and grades. Create a method average_grade() to compute the average of the grades\n",
        "class Student:\n",
        "    def __init__(self, name, grades):\n",
        "        self.name = name\n",
        "        self.grades = grades\n",
        "    def average_grade(self):\n",
        "        return sum(self.grades) / len(self.grades)\n",
        "student= Student(\"John\", [80, 90, 75, 95])\n",
        "print(student.average_grade())"
      ],
      "metadata": {
        "colab": {
          "base_uri": "https://localhost:8080/"
        },
        "id": "rJGKUoXn3SNF",
        "outputId": "4fadf2b7-adf3-486f-84ad-48dcf0451b4b"
      },
      "execution_count": 15,
      "outputs": [
        {
          "output_type": "stream",
          "name": "stdout",
          "text": [
            "85.0\n"
          ]
        }
      ]
    },
    {
      "cell_type": "code",
      "source": [
        "# Create a class Rectangle with methods set_dimensions() to set the dimensions and area() to calculate the area\n",
        "class Rectangle:\n",
        "    def __init__(self, length, width):\n",
        "        self.length = length\n",
        "        self.width = width\n",
        "    def set_dimensions(self, length, width):\n",
        "        self.length = length\n",
        "        self.width = width\n",
        "    def area(self):\n",
        "        return self.length * self.width\n",
        "rect = Rectangle(4, 6)\n",
        "print(rect.area())"
      ],
      "metadata": {
        "colab": {
          "base_uri": "https://localhost:8080/"
        },
        "id": "tKS6HeIK3zJT",
        "outputId": "d462be94-80f7-4f6e-9a31-c252d7ded99e"
      },
      "execution_count": 16,
      "outputs": [
        {
          "output_type": "stream",
          "name": "stdout",
          "text": [
            "24\n"
          ]
        }
      ]
    },
    {
      "cell_type": "code",
      "source": [
        "#Create a class Employee with a method calculate_salary() that computes the salary based on hours worked and hourly rate. Create a derived class\n",
        "#Manager that adds a bonus to the salary\n",
        "class Employee:\n",
        "    def __init__(self, name, hours_worked, hourly_rate):\n",
        "        self.name = name\n",
        "        self.hours_worked = hours_worked\n",
        "        self.hourly_rate = hourly_rate\n",
        "    def calculate_salary(self):\n",
        "        return self.hours_worked * self.hourly_rate\n",
        "class Manager(Employee):\n",
        "    def __init__(self, name, hours_worked, hourly_rate, bonus):\n",
        "        super().__init__(name, hours_worked, hourly_rate)\n",
        "        self.bonus = bonus\n",
        "    def calculate_salary(self):\n",
        "        return super().calculate_salary() + self.bonus\n",
        "manager = Manager(\"John\", 40, 50, 1000)\n",
        "print(manager.calculate_salary())"
      ],
      "metadata": {
        "colab": {
          "base_uri": "https://localhost:8080/"
        },
        "id": "9p4z-jeoGLlE",
        "outputId": "e82217eb-2b9f-422d-c783-12f64bfeb257"
      },
      "execution_count": 17,
      "outputs": [
        {
          "output_type": "stream",
          "name": "stdout",
          "text": [
            "3000\n"
          ]
        }
      ]
    },
    {
      "cell_type": "code",
      "source": [
        "# Create a class Product with attributes name, price, and quantity. Implement a method total_price() that calculates the total price of the\n",
        "#product\n",
        "class Product:\n",
        "    def __init__(self, name, price, quantity):\n",
        "        self.name = name\n",
        "        self.price = price\n",
        "        self.quantity = quantity\n",
        "    def total_price(self):\n",
        "        return self.price * self.quantity\n",
        "product = Product(\"Laptop\", 1000, 2)\n",
        "print(product.total_price())"
      ],
      "metadata": {
        "colab": {
          "base_uri": "https://localhost:8080/"
        },
        "id": "8aynhESXHFUU",
        "outputId": "9a6f59bb-bf26-4763-f6f6-420085f74834"
      },
      "execution_count": 18,
      "outputs": [
        {
          "output_type": "stream",
          "name": "stdout",
          "text": [
            "2000\n"
          ]
        }
      ]
    },
    {
      "cell_type": "code",
      "source": [
        "# Create a class Animal with an abstract method sound(). Create two derived classes Cow and Sheep that implement the sound() method.\n",
        "class Animal:\n",
        "    def sound(self):\n",
        "        pass\n",
        "class Cow(Animal):\n",
        "    def sound(self):\n",
        "        print(\"Moo!\")\n",
        "class Sheep(Animal):\n",
        "    def sound(self):\n",
        "        print(\"Baa!\")\n",
        "cow = Cow()\n",
        "cow.sound()\n",
        "sheep = Sheep()\n",
        "sheep.sound()"
      ],
      "metadata": {
        "colab": {
          "base_uri": "https://localhost:8080/"
        },
        "id": "TrB9X27_HVwb",
        "outputId": "a0f0a92f-a871-4265-bfe3-cdf3feb7d74b"
      },
      "execution_count": 19,
      "outputs": [
        {
          "output_type": "stream",
          "name": "stdout",
          "text": [
            "Moo!\n",
            "Baa!\n"
          ]
        }
      ]
    },
    {
      "cell_type": "code",
      "source": [
        "# Create a class Book with attributes title, author, and year_published. Add a method get_book_info() that returns a formatted string with the\n",
        "#book's details.\n",
        "class Book:\n",
        "    def __init__(self, title, author, year_published):\n",
        "        self.title = title\n",
        "        self.author = author\n",
        "        self.year_published = year_published\n",
        "    def get_book_info(self):\n",
        "        return f\"The book {self.title} by {self.author} in year ({self.year_published})\"\n",
        "book = Book(\"The Great Gatsby\", \"F. Scott Fitzgerald\", 1925)\n",
        "print(book.get_book_info())"
      ],
      "metadata": {
        "colab": {
          "base_uri": "https://localhost:8080/"
        },
        "id": "XJBbFT2iHrYX",
        "outputId": "29720c04-ff34-4a31-9a40-e7b48848ee85"
      },
      "execution_count": 22,
      "outputs": [
        {
          "output_type": "stream",
          "name": "stdout",
          "text": [
            "The book The Great Gatsby by F. Scott Fitzgerald in year (1925)\n"
          ]
        }
      ]
    },
    {
      "cell_type": "code",
      "source": [
        "# Create a class House with attributes address and price. Create a derived class Mansion that adds an attribute number_of_rooms.\n",
        "class House:\n",
        "    def __init__(self, address, price):\n",
        "        self.address = address\n",
        "        self.price = price\n",
        "class Mansion(House):\n",
        "    def __init__(self, address, price, number_of_rooms):\n",
        "        super().__init__(address, price)\n",
        "        self.number_of_rooms = number_of_rooms\n",
        "\n",
        "mansion = Mansion(\"123 Main St\", 1000000, 8)\n",
        "print(mansion.address)\n",
        "print(mansion.price)\n",
        "print(mansion.number_of_rooms)"
      ],
      "metadata": {
        "colab": {
          "base_uri": "https://localhost:8080/"
        },
        "id": "OqYuQGuIIc6d",
        "outputId": "3f13c534-5e49-47ce-becc-fb4b7ade0408"
      },
      "execution_count": 23,
      "outputs": [
        {
          "output_type": "stream",
          "name": "stdout",
          "text": [
            "123 Main St\n",
            "1000000\n",
            "8\n"
          ]
        }
      ]
    }
  ]
}